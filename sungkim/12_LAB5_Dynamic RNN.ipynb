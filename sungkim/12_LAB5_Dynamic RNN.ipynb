{
 "cells": [
  {
   "cell_type": "markdown",
   "metadata": {},
   "source": [
    "# [LAB 12-5] Dynamic RNN\n",
    "\n",
    "- [실습 동영상 12-5](https://youtu.be/aArdoSpdMEc)\n",
    "- [실습 슬라이드 12](https://docs.google.com/presentation/d/1UpZVnOvouIbXd0MAFBltSra5rRpsiJ-UyBUKGCrfYoo/edit)"
   ]
  },
  {
   "cell_type": "markdown",
   "metadata": {},
   "source": [
    "### Dynamic RNN\n",
    "- Tensorflow의 새로운 기능!\n",
    "- sequence가 정해져있지 않은 경우(번역과 같은 경우)에 사용\n",
    "- 다른 값, 다른 길이를 입력으로 받음\n",
    "  + padding 처리로는 정확한 값이 나오지 않는다.\n",
    "  + sequence length라는 array를 정한 후(eg. [3,2,1]) 출력에서 이 array를 벗어나는 값은 0으로 처리함 "
   ]
  }
 ],
 "metadata": {
  "kernelspec": {
   "display_name": "Python 3",
   "language": "python",
   "name": "python3"
  },
  "language_info": {
   "codemirror_mode": {
    "name": "ipython",
    "version": 3
   },
   "file_extension": ".py",
   "mimetype": "text/x-python",
   "name": "python",
   "nbconvert_exporter": "python",
   "pygments_lexer": "ipython3",
   "version": "3.5.4"
  }
 },
 "nbformat": 4,
 "nbformat_minor": 2
}
