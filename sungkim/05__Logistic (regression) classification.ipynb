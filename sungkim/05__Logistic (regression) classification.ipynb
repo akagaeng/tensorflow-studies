{
 "cells": [
  {
   "cell_type": "markdown",
   "metadata": {},
   "source": [
    "# 5. Logistic (regression) classification\n",
    "\n",
    "- [강의 동영상 5-1](https://youtu.be/PIjno6paszY)\n",
    "- [강의 동영상 5-2](https://youtu.be/6vzchGYEJBc)\n",
    "- [강의 슬라이드 5-1, 5-2](https://hunkim.github.io/ml/lec5.pdf)\n"
   ]
  },
  {
   "cell_type": "markdown",
   "metadata": {},
   "source": [
    "## (RECAP) Regression\n",
    "\n",
    "- **Hypothesis**: $H(X) = XW$ (선)\n",
    "- **Cost**: $cost(W) = \\frac{1}{m}\\sum (WX - y)^2$ (선과 얼마나 가까운지 알아냄 cost를 최소화하는 W를 찾아내는 것이 목표)\n",
    "- **Gradient descent**: $W := W - \\alpha * \\frac{\\partial}{\\partial W} cost(W)$\n",
    "\n",
    "## (Binary) Classification: (둘중 하나) 분류\n",
    "- Spam Detection: Spam or Ham => 1/0으로 표현\n",
    "- Facebook feed: show or hide => 1/0으로 표현\n",
    "- Credit Card Fraudulent Transaction detection: legitimate/fraud => 1/0으로 표현\n",
    "\n",
    "## Linear Regression?\n",
    "- 장점\n",
    "  + Classification 문제를 Linear regression처럼 해결할 수 있음\n",
    "- 문제점\n",
    "  + y값이 0 또는 1이므로 x 값이 너무 커지면 기울기가 완만해져 원래 0.5 기준이 쉽게 바뀌는 등으로 정확도가 떨어질 수 있다\n",
    "  + 0과 1 사이값만 가지면서 기울기가 심하게 바뀌지 않는 함수가 필요하였음\n",
    "  + 이 문제 해결을 위해 sigmoid 함수를 사용하기로 함\n",
    "  + $g(z) = \\frac{1}{(1+e^{-z})}$ (sigmoid, 또는 logistic이라고 부름)\n",
    "\n",
    "![sigmoid](images/lec5/sigmoid.png)\n"
   ]
  },
  {
   "cell_type": "markdown",
   "metadata": {},
   "source": [
    "## Logistic Hypothesis\n",
    "$$H(X) = \\frac{1}{1+e^{-W^{T}X}}$$\n",
    "\n",
    "- 어느 점에서 시작하느냐에 따라 (local) minimum value이 달라진다.\n",
    "- 우리가 구하고 싶은 점은 (global) minimum value인데, 기존의 cost function으로는 (global) minimum value를 구하기 어렵다.\n",
    "- 따라서 기존의 cost 함수를 변형하여야 한다.\n",
    "\n",
    "$$ cost(W) = \\frac{1}{m}\\sum C(H(x), y) $$\n",
    "\n",
    "$$\n",
    "C(H(x), y) = \\begin{cases}\n",
    "-log(H(x)) & : y=1 \\\\\n",
    "-log(1-H(x)) & : y=0\n",
    "\\end{cases}\n",
    "$$\n",
    "\n",
    "조건 제거한 식: $$C(H(x), y) = -ylog(H(x)) - (1-y)log(1-H(x))$$\n",
    "이를 이용하여 cost 미분: \n",
    "$$ cost(W) = \\frac{1}{m}\\sum C(H(x), y) $$\n",
    "\n",
    "$$ cost(W) = \\frac{1}{m}\\sum -log(H(x)) - (1-y)log(1-H(x)) $$\n",
    "\n",
    "파이썬이 대신 해주니 미분은 따로 해보지는 않음\n",
    "\n"
   ]
  },
  {
   "cell_type": "code",
   "execution_count": null,
   "metadata": {},
   "outputs": [],
   "source": []
  }
 ],
 "metadata": {
  "kernelspec": {
   "display_name": "Python 3",
   "language": "python",
   "name": "python3"
  },
  "language_info": {
   "codemirror_mode": {
    "name": "ipython",
    "version": 3
   },
   "file_extension": ".py",
   "mimetype": "text/x-python",
   "name": "python",
   "nbconvert_exporter": "python",
   "pygments_lexer": "ipython3",
   "version": "3.5.4"
  }
 },
 "nbformat": 4,
 "nbformat_minor": 2
}
