{
 "cells": [
  {
   "cell_type": "markdown",
   "metadata": {},
   "source": [
    "# 1. 머신러닝의 개념과 용어\n",
    "\n",
    "- [강의 동영상](https://youtu.be/-57Ne86Ia8w)\n",
    "- [강의 슬라이드](https://hunkim.github.io/ml/lec1.pdf)\n",
    "\n",
    "### Basic Concepts\n",
    "\n",
    "- What is ML?\n",
    "- What is learning?\n",
    "  + supervised\n",
    "  + unsupervised\n",
    "- What is regression?\n",
    "- What is classification?\n",
    "\n",
    "### Machine Learning\n",
    "- Limitation of explicit programming\n",
    "  + spam filter, automatic driving 등에서 너무 많은 룰들을 프로그래밍만으로는 해결하기 어려움\n",
    "- Arthur Samuel (1959)\n",
    "  + Machine learning 개념 처음 제안\n",
    "\n",
    "### Supervised/Unsupervised learning\n",
    "- Supervised learning\n",
    "  + learning with labeled exampes(=training set)\n",
    "- Unsupervised learning\n",
    "  + learning with un-labeled data\n",
    "\n",
    "### Supervised learning\n",
    "- Most common problem type in ML\n",
    "  - Image labeling: learning from tagged images\n",
    "  - Email spam filter: learning from labeled (spam or ham) email\n",
    "  - Predicting exam score: learning from previous exam score and time spent\n",
    "  \n",
    "### Training data set\n",
    "- 새로운 추론을 가능하게하도록 미리 학습시키는 데이터\n",
    "\n",
    "### Types of supervised learning\n",
    "- Predicting final exam score based on time spent\n",
    "  + regression (연속된 값 예측)\n",
    "- Pass/non-pass based on time spent\n",
    "  + binary classification (두개 중에서 분류 예측)\n",
    "- Letter grade (A, B, C, E and F) based on time spent\n",
    "  + multi-label classification (여러개 중에서 분류 예측)"
   ]
  },
  {
   "cell_type": "code",
   "execution_count": null,
   "metadata": {},
   "outputs": [],
   "source": []
  }
 ],
 "metadata": {
  "kernelspec": {
   "display_name": "Python 3",
   "language": "python",
   "name": "python3"
  },
  "language_info": {
   "codemirror_mode": {
    "name": "ipython",
    "version": 3
   },
   "file_extension": ".py",
   "mimetype": "text/x-python",
   "name": "python",
   "nbconvert_exporter": "python",
   "pygments_lexer": "ipython3",
   "version": "3.5.4"
  }
 },
 "nbformat": 4,
 "nbformat_minor": 2
}
