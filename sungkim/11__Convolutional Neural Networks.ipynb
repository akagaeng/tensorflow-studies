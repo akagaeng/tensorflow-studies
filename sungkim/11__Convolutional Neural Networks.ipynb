{
 "cells": [
  {
   "cell_type": "markdown",
   "metadata": {},
   "source": [
    "# 11. Convolutional Neural Networks\n",
    "- [강의 동영상 11-1](https://youtu.be/Em63mknbtWo): ConvNet의 Conv 레이어 만들기\n",
    "- [강의 동영상 11-2](https://youtu.be/2-75C-yZaoA): ConvNet Max pooling 과 Full Network\n",
    "- [강의 동영상 11-3](https://youtu.be/KbNbWTnlYXs): ConvNet의 활용예\n",
    "- [강의 슬라이드 11-1, 11-2, 11-3](https://hunkim.github.io/ml/lec11.pdf)"
   ]
  },
  {
   "cell_type": "markdown",
   "metadata": {},
   "source": [
    "### Convolutional Neural network\n",
    "- 고양이 시각 실험에서 시작\n",
    "- 이미지를 회전시켜봤더니 뉴런 전체가 변화하는 것이 아니라 일부분만 변화하는데서 착안\n",
    "- 그림 전체를 일부분씩 잘라서 각각의 입력으로 넣어서 학습시킨다.\n",
    "- convolution층, RELU층, POOL층 등을 쌓아서 학습시킴\n",
    "\n"
   ]
  },
  {
   "cell_type": "markdown",
   "metadata": {},
   "source": [
    "### CNN on image (Start with an image)\n",
    "\n",
    "- 이미지 표현: width x height x depth\n",
    "- image = 32 x 32 x 3인 경우 => 가로 32, 세로 32, 색상(RGB)=3\n",
    "- 전체 이미지를 하나의 입력으로 받지 않고, 각 부분들을 각각의 입력으로 받은 후에 처리\n",
    "- filter = 5 x 5 x 3 인 경우 => 가로 5, 세로 5, 색상(RGC)=3\n",
    "- **filter**는 이미지의 각 부분의 처리를 담당하는데, 쉽게말하면 이미지의 각 부분을 하나의 숫자로 표현하게 해준다!\n",
    "- input x --- **filter** ---> one number!\n",
    "- x1, x2, ... (5x5x3개) --- **filter** ---> ReLU(WX+b)\n",
    "![image-CNN.png](images/lec11/image-CNN.png)\n",
    "\n",
    "- 계산 횟수 구하는 방법(총 모아지는 값의 갯수) (How many numbers can we get?)\n",
    "  + 7x7 input에 3x3 filter가 있는 경우, 1칸씩 움직였을 때(1 stride): (7-3)/1+1 = 5 [5x5]\n",
    "  + stride: 한번에 몇칸씩 움직이는지를 표현하는 용어\n",
    "\n",
    "$$ Output Size = (N-F)/stride + 1$$\n",
    "- N: image width\n",
    "- F: filter width\n",
    "- output size가 자연수로 나누어 떨어지는 경우에만 해당 stride 사용가능하다.\n",
    "\n",
    "### 테두리에 0인 패딩을 추가하기!\n",
    "- 실제 필터를 적용하다보면 이미지 사이즈가 작아지는 문제가 발생한다.\n",
    "- 이를 방지하기 위해서 테두리에 1pixel으로 0값을 둘러준다.\n",
    "- 0으로 된 패딩을 추가함으로써 모서리 부분을 인식시켜줄 수 있다.\n",
    "\n",
    "### 필터 적용\n",
    "- n개의 필터를 적용하게 되면 activation map이 (Output size Width, Output size Height, 필터 갯수 n)이 된다.\n",
    "- 여러 개의 layer를 쌓는 경우 몇개의 weight 변수가 생길까?\n",
    "  + 필터의 크기 x 필터의 갯수\n",
    "  + eg) 5x5x3 필터를 6개 사용한 layer가 있고, 5x5x6 필터를 10개 사용한 layer가 있는 경우\n",
    "  + (5x5x3x6)x(5x5x6x10)= 675,000개의 w가 생긴다.\n",
    "\n",
    "  \n",
    "\n",
    "\n"
   ]
  },
  {
   "cell_type": "code",
   "execution_count": 4,
   "metadata": {},
   "outputs": [
    {
     "data": {
      "text/plain": [
       "675000"
      ]
     },
     "execution_count": 4,
     "metadata": {},
     "output_type": "execute_result"
    }
   ],
   "source": [
    "# The number of weight variables\n",
    "(5*5*3*6)*(5*5*6*10)"
   ]
  },
  {
   "cell_type": "markdown",
   "metadata": {},
   "source": [
    "## Pool Layer (sampling)\n",
    "- 여러 레이어 중에서 샘플링하는 것이라고 간단히 생각하면 된다.\n",
    "\n",
    "### Max Pooling\n",
    "- 각 필터가 지나가는 자리의 값 중에서 가장 큰 값들을 선택(sampling)한다.\n",
    "- 아래 그림에서 각 색깔이 필터가 지나가는 자리인데 그 중에서 대표값으로 가장 큰 값인 6,8,3,4를 선택한다.\n",
    "\n",
    "![max-pooling.png](images/lec11/max-pooling.png)\n",
    "\n",
    "#### CNN 예제:  https://cs.stanford.edu/people/karpathy/convnetjs/demo/cifar10.html"
   ]
  }
 ],
 "metadata": {
  "kernelspec": {
   "display_name": "Python 3",
   "language": "python",
   "name": "python3"
  },
  "language_info": {
   "codemirror_mode": {
    "name": "ipython",
    "version": 3
   },
   "file_extension": ".py",
   "mimetype": "text/x-python",
   "name": "python",
   "nbconvert_exporter": "python",
   "pygments_lexer": "ipython3",
   "version": "3.5.4"
  }
 },
 "nbformat": 4,
 "nbformat_minor": 2
}
