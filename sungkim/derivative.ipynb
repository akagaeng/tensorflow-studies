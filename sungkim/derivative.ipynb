{
 "cells": [
  {
   "cell_type": "markdown",
   "metadata": {},
   "source": [
    "# 10분안에 미분 정리하기\n",
    "[강의 동영상](https://youtu.be/oZyvmtqLmLo): (특별편) 10분안에 미분 정리하기"
   ]
  },
  {
   "cell_type": "markdown",
   "metadata": {},
   "source": [
    "### 미분(Basic Derivative)\n",
    "- 간단히 미분은 순간변화율이라고 생각하면 된다!\n",
    "- $\\frac{df}{dx}$처럼 줄여서 쓰기도 한다.\n",
    "\n",
    "$$\n",
    "\\frac{d}{dx}f(x) = \\lim_{\\Delta x \\to 0} \\frac{f(x)+\\Delta x) - f(x)}{\\Delta x}\n",
    "$$\n",
    "\n",
    "### 편미분(Partial Derivative)\n",
    "- 미분할 때 관심있는 변수가 아닌 것은 상수로 취급하면 된다!\n",
    "- $\\partial$기호는 partial이라고 부른다.\n",
    "$$\n",
    "f(x,y) = xy 일 때, \\frac{\\partial f}{\\partial x} = y\n",
    "$$\n",
    "\n",
    "### Chain Rule\n",
    "- f(g(x))처럼 합성함수에서 g(x)를 제외하고 f와 g에 관해서만 알고싶을 경우\n",
    "- $\\frac{\\partial f}{\\partial g}$를 따로 구하고, $\\frac{\\partial g}{\\partial x}$ 를 따로 구한 다음 이를 곱해주면 $\\frac{\\partial f}{\\partial x}$를 구할 수 있다.\n",
    "\n",
    "$$\n",
    "\\frac{\\partial f}{\\partial x} = \\frac{\\partial f}{\\partial g} \\cdot \\frac{\\partial g}{\\partial x} \n",
    "$$"
   ]
  }
 ],
 "metadata": {
  "kernelspec": {
   "display_name": "Python 3",
   "language": "python",
   "name": "python3"
  },
  "language_info": {
   "codemirror_mode": {
    "name": "ipython",
    "version": 3
   },
   "file_extension": ".py",
   "mimetype": "text/x-python",
   "name": "python",
   "nbconvert_exporter": "python",
   "pygments_lexer": "ipython3",
   "version": "3.5.4"
  }
 },
 "nbformat": 4,
 "nbformat_minor": 2
}
