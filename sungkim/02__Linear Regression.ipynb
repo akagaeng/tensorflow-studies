{
 "cells": [
  {
   "cell_type": "markdown",
   "metadata": {},
   "source": [
    "# 2. Linear Regression 의 개념\n",
    "\n",
    "- [강의 동영상](https://www.youtube.com/watch?v=Hax03rCn3UI)\n",
    "- [강의 슬라이드](https://hunkim.github.io/ml/lec2.pdf)"
   ]
  },
  {
   "cell_type": "markdown",
   "metadata": {},
   "source": [
    "# Predicting example score: Regression\n",
    "- x 시간을 공부했더니 y점이 나왔다는 정보들(데이터셋)을 학습시킴\n",
    "- a시간을 공부하면 b점이 나오겠다는 예측을 하도록 하는 것\n",
    "\n",
    "### (Linear) Hypothesis\n",
    "- 가설을 세우고 검증하는 과정을 수행\n",
    "- 세상의 많은 현상들이 Linear한 결과를 나타내므로 생각보다 예측가능한 것들이 많음\n",
    "- 선을 긋는 것!\n",
    "- $H(x) = Wx + b$\n",
    "- $H(x)$: 가설, W, b에 따라 여러 모양의 선이 나타남\n",
    "- W, b 중에서 가장 적절한 값을 찾아야 함\n",
    "- 더 정확한 H(x)를 구하는 것이 목적!\n",
    "- 새로운 값을 H(x)에 대입했을 때 값으로 결과 예측\n",
    "\n",
    "### Cost Function (Loss Function)\n",
    "- 가설과 실제 데이터가 얼마나 다른지를 나타내는 지표\n",
    "- $|H(x) - y|$ 를 구함 => $(H(x)-y)^2$\n",
    "- $W$와 $b$에 관한 수식이 나옴\n",
    "- cost function을 적게 만드는 것이 목표!\n",
    "- `minimize cost(W, b)`\n",
    "- 이를 위한 많은 알고리즘들이 구현되어 있음(LAB2에서 실습)\n"
   ]
  },
  {
   "cell_type": "code",
   "execution_count": null,
   "metadata": {},
   "outputs": [],
   "source": []
  }
 ],
 "metadata": {
  "kernelspec": {
   "display_name": "Python 3",
   "language": "python",
   "name": "python3"
  },
  "language_info": {
   "codemirror_mode": {
    "name": "ipython",
    "version": 3
   },
   "file_extension": ".py",
   "mimetype": "text/x-python",
   "name": "python",
   "nbconvert_exporter": "python",
   "pygments_lexer": "ipython3",
   "version": "3.5.4"
  }
 },
 "nbformat": 4,
 "nbformat_minor": 2
}
