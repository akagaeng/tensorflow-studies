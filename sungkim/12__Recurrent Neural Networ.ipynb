{
 "cells": [
  {
   "cell_type": "markdown",
   "metadata": {},
   "source": [
    "# 12. Recurrent Neural Network(RNN)\n",
    "- [강의 동영상 12](https://youtu.be/-SHPG_KMUkQ): NN의 꽃 RNN 이야기\n",
    "- [강의 슬라이드 12](https://hunkim.github.io/ml/lec12.pdf)"
   ]
  },
  {
   "cell_type": "markdown",
   "metadata": {},
   "source": [
    "### Sequence data\n",
    "- 자연어 등은 sequence로 되어있다. 단어 자체를 이해한다고 해서 전체 맥락을 이해할 수 없다. 이전에 사용한 단어들을 통해 그 다음 말을 이해할 수 있다.\n",
    "- NN, CNN은 이러한 sequence로 되어있는 series data를 처리하기가 어렵다.\n",
    "- 이전의 연산이 그 다음 연산에 영향을 끼치는 경우에 어떻게 할지에 대한 문제\n",
    "\n",
    "![rnn-loop.png](images/lec12/rnn-loop.png)\n",
    "- 왼쪽 그림과 같이 표시\n",
    "- 실제 구현은 오른쪽 그림과 같이 된다.\n",
    "\n",
    "$$\n",
    "h_t=f_W(h_{t-1},x_t)\n",
    "$$\n",
    "\n",
    "\n",
    "![recurrence-formula.png](images/lec12/recurrence-formula.png)\n"
   ]
  },
  {
   "cell_type": "markdown",
   "metadata": {},
   "source": [
    "### Vanilla RNN\n",
    "![vanilla-rnn-calculation.png](images/lec12/vanilla-rnn-calculation.png)"
   ]
  },
  {
   "cell_type": "markdown",
   "metadata": {},
   "source": [
    "### RNN Application\n",
    "- Language Modeling 연관검색어, 입력한 단어 다음에 어떤 단어가 올것인지 예측하는 것\n",
    "- Speech Recognition: 이전에 했던 말을 기반으로 다음 말을 한다.\n",
    "- Translation\n",
    "- Chatbot: Conversation Modeling, Question Answering\n",
    "- Image/Video Captioning\n",
    "- Image/Music/Dance generation\n",
    "- ...\n",
    "\n",
    "### RNN offer a lot of flexibility\n",
    "- CNN처럼 다양한 방법으로 layer 변형해서 적용할 수 있다.\n",
    "\n",
    "### Training RNN\n",
    "- LSTM(Long Short Term Memory), GRU 등의 모델을 주로 사용\n",
    "\n",
    "\n"
   ]
  }
 ],
 "metadata": {
  "kernelspec": {
   "display_name": "Python 3",
   "language": "python",
   "name": "python3"
  },
  "language_info": {
   "codemirror_mode": {
    "name": "ipython",
    "version": 3
   },
   "file_extension": ".py",
   "mimetype": "text/x-python",
   "name": "python",
   "nbconvert_exporter": "python",
   "pygments_lexer": "ipython3",
   "version": "3.5.4"
  }
 },
 "nbformat": 4,
 "nbformat_minor": 2
}
