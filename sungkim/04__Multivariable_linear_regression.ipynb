{
 "cells": [
  {
   "cell_type": "markdown",
   "metadata": {},
   "source": [
    "# 4. Multivariable linear regression\n",
    "\n",
    "- [강의 동영상](https://youtu.be/kPxpJY6fRkY)\n",
    "- [강의 슬라이드](https://docs.google.com/presentation/d/1bHVxjCVvRKjCgtf6OMmxe35nR65LnsERoWSefWscv2I/)\n",
    "\n"
   ]
  },
  {
   "cell_type": "markdown",
   "metadata": {},
   "source": [
    "## Recap\n",
    "\n",
    "### Linear Regression 설계를 위해서 다음의 3가지가 필요\n",
    "- Hypothesis\n",
    "  + $H(x) = Wx + b$\n",
    "- Cost function\n",
    "  + $cost(W,b) = \\frac{1}{m}\\sum_{i=1}^{m}(H(x^{(i)}) - y^{(i)})^2$\n",
    "- Gradient descent algorithm"
   ]
  },
  {
   "cell_type": "markdown",
   "metadata": {},
   "source": [
    "## input이 하나가 아니라 여러개인 경우\n",
    "기존의 방법과는 조금은 달라져야 한다.\n",
    "\n",
    "Hypothesis\n",
    "- 변수가 하나인 경우: $$H(x) = Wx + b$$\n",
    "- 변수가 여러개인 경우: $$H(x_1, x_2, x_3) = w_1x_1 + w_2x_2 + w_3x_3 + \\dots + b$$\n",
    "\n",
    "Cost function\n",
    "- 변수가 하나인 경우: $$cost(W,b) = \\frac{1}{m}\\sum_{i=1}^{m}(H(x^{(i)}) - y^{(i)})^2$$\n",
    "- 변수가 여러개인 경우: $$cost(W,b) = \\frac{1}{m}\\sum_{I=1}^{m}(H(x_1^{(i)}, x_2^{(i)}, x_3^{(i)}, \\dots ) - y^{(i)})^2$$"
   ]
  },
  {
   "cell_type": "markdown",
   "metadata": {},
   "source": [
    "## Matrix\n",
    "- 변수가 여러 개인 경우 사용하기 편리\n",
    "- matrix의 곱셈: dot product\n",
    "\n",
    "## Hypothesis using matrix\n",
    "\n",
    "- **H(x)  in theory**\n",
    "  + $H(x) = Wx + b$\n",
    "\n",
    "\n",
    "- **H(X) in TensorFlow(implementation)**\n",
    "  + $\\begin{pmatrix} x_1 & x_2 & x_3 \\end{pmatrix} \\cdot \\begin{pmatrix} w_1 \\\\ w_2 \\\\ w_3 \\end{pmatrix} = \\begin{pmatrix} x_1w_1 + x_2w_2 + x_3w_3\\end{pmatrix}$\n",
    "\n",
    "$H(X) = XW$\n",
    "- 대문자로 쓰면 matrix 표현\n",
    "- H(X) = Wx+b 를 matrix 표현으로는 H(X) = XW 처럼 `반대로` 쓴다\n",
    "- $x_1, x_2, \\dots$ 각각을 instance라고 한다.\n",
    "\n",
    "#### Matrix를 이용한 인스턴스 확장\n",
    "$\\begin{pmatrix} \n",
    "x_{11} & x_{12} & x_{13} \\\\ \n",
    "x_{21} & x_{22} & x_{23} \\\\ \n",
    "x_{31} & x_{32} & x_{33} \\\\\n",
    "\\dots & \\dots & \\dots\n",
    "\\end{pmatrix} \\cdot \n",
    "\\begin{pmatrix} w_1 \\\\ w_2 \\\\ w_3 \\end{pmatrix} = \n",
    "\\begin{pmatrix} \n",
    "x_{11}w_1 + x_{12}w_2 + x_{13}w_3 + \\dots \\\\\n",
    "x_{21}w_1 + x_{22}w_2 + x_{23}w_3 + \\dots \\\\\n",
    "x_{31}w_1 + x_{32}w_2 + x_{33}w_3 + \\dots \\\\\n",
    "\\dots\n",
    "\\end{pmatrix}$\n",
    "\n",
    "#### Matrix 결과 계산 방법\n",
    "- X[a x b] dot W[b x c] = H(X)[a x c]\n",
    "- 보통 X는 주어짐\n",
    "  + a: instance의 갯수(데이터를 몇개 넣을것인지)\n",
    "  + b: x의 variable의 갯수\n",
    "- 보통 출력값 H(X)도 주어짐\n",
    "  + a: instance의 갯수(x에서 이미 결정됨)\n",
    "  + c: Y값\n",
    "- 정해야할 것은 결국 `W` !!\n",
    "  + X, H(X)가 주어졌으므로 W는 `[3 x 1] matrix`라는 것을 알 수 있다.\n",
    "- instance의 수는 가변\n",
    "  + **numpy에서는 -1로 표현**\n",
    "  + **tensorflow에서는 none이라고 표현**"
   ]
  }
 ],
 "metadata": {
  "kernelspec": {
   "display_name": "Python 3",
   "language": "python",
   "name": "python3"
  },
  "language_info": {
   "codemirror_mode": {
    "name": "ipython",
    "version": 3
   },
   "file_extension": ".py",
   "mimetype": "text/x-python",
   "name": "python",
   "nbconvert_exporter": "python",
   "pygments_lexer": "ipython3",
   "version": "3.5.4"
  }
 },
 "nbformat": 4,
 "nbformat_minor": 2
}
