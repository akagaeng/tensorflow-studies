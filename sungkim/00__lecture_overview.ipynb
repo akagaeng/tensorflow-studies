{
 "cells": [
  {
   "cell_type": "markdown",
   "metadata": {},
   "source": [
    "# 0. 수업의 개요\n",
    "\n",
    "- [강의 동영상](https://www.youtube.com/watch?v=BS6O0zOGX4E)\n",
    "- [강의 슬라이드](https://hunkim.github.io/ml/lec0.pdf)\n",
    "\n",
    "### Goals\n",
    "- Basic understanding of machine learning algorithms\n",
    "  + Linear regression, Logistic regression (classification) : 기초\n",
    "  + Neural networks, Convolutional Neural Network, Recurrent Neural : 딥러닝\n",
    "Network\n",
    "- Solve your problems using machine learning tools\n",
    "  + Tensorflow and Python "
   ]
  },
  {
   "cell_type": "markdown",
   "metadata": {},
   "source": [
    "### Schedule\n",
    "- Machine learning basic concepts\n",
    "- Linear regression\n",
    "- Logistic regression (classification)\n",
    "- Multivariable (Vector) linear/logistic regression\n",
    "- Neural networks\n",
    "- Deep learning\n",
    "  + CNN\n",
    "  + RNN\n",
    "  + Bidirectional Neural networks"
   ]
  },
  {
   "cell_type": "code",
   "execution_count": null,
   "metadata": {},
   "outputs": [],
   "source": []
  }
 ],
 "metadata": {
  "kernelspec": {
   "display_name": "Python 3",
   "language": "python",
   "name": "python3"
  },
  "language_info": {
   "codemirror_mode": {
    "name": "ipython",
    "version": 3
   },
   "file_extension": ".py",
   "mimetype": "text/x-python",
   "name": "python",
   "nbconvert_exporter": "python",
   "pygments_lexer": "ipython3",
   "version": "3.5.4"
  }
 },
 "nbformat": 4,
 "nbformat_minor": 2
}
