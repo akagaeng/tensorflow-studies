{
 "cells": [
  {
   "cell_type": "markdown",
   "metadata": {},
   "source": [
    "# 8. Deep Neural Nets for Everyone\n",
    "- [강의 동영상 8-1](https://youtu.be/n7DNueHGkqE): 딥러닝의 기본 개념: 시작과 XOR 문제\n",
    "- [강의 동영상 8-2](https://youtu.be/AByVbUX1PUI): 딥러닝의 기본 개념2: Back-propagation 과 2006/2007 '딥'의 출현\n",
    "- [강의 슬라이드 8-1, 8-2](https://hunkim.github.io/ml/lec8.pdf)"
   ]
  },
  {
   "cell_type": "markdown",
   "metadata": {},
   "source": [
    "#### 인간처럼 생각하는 기계를 만들어보자\n",
    "-> 인간의 뇌를 연구해보자\n",
    "-> 뇌는 굉장히 다양한 사고를 할 수 있는데 그 기본구조인 뉴런은 매우 단순한 구조로 이루어져있다!\n",
    "-> 뉴런에 어떤 input을 넣으면 output이 나온다.\n",
    "-> 수식으로 표현이 가능하고, 기계로 구현이 가능할 것 같다.\n",
    "-> 어떤 신호 x가 들어오면 weight w를 곱해서 다 더한 뒤에 bias를 더해주면 총 합이 되는데, 이 총 합이 일정 값 이상인 경우메만 output을 준다(activation function).\n",
    "\n",
    "연구 초기에는 and/or을 컴퓨터가 판단할 수 있으면 구현이 가능하다고 하였음(linear한 직선을 그을 수 있으면 구현이 가능하다고 생각하면 됨)\n",
    "- and, or은 실제로 구현이 가능하였음\n",
    "- xor은 구현이 불가능함(+와 -를 나눌수 있는 선을 그을 수 없음, 정확도가 무조건 50%가 된다)\n",
    "\n",
    "![xor_problem](images/lec8/xor_problem.png)\n",
    "\n",
    "#### Marvin Minsky\n",
    "- 하나의 퍼셉트론으로는 XOR 문제를 풀 수 없다는 것을 증명\n",
    "- 여러 개의 layer로도 해결이 불가능하다고 함 -> 이후 20년 정도 신경망 연구가 중단됨\n",
    "\n",
    "#### Back propagation\n",
    "- Marvin Minsky 교수가 해결할 수 없다고 한 문제를 해결한 방법\n",
    "- Paul Werbox (1974년, 1982년) 다층 신경망으로 해결 가능하다는 것을 알아내었으나 암흑기여서 주목을 받지 못하고 묻힘\n",
    "- Hinton (1986년): 동일한 방법을 알아내었으며 연구결과가 주목을 받음\n",
    "\n",
    "#### Convolutional Neural Networks\n",
    "- LeCun 교수\n",
    "- 고양이한테 그림을 보여주면서 뉴런을 확인해보니 그림의 변화에 따라 전체 뉴런이 활성화되는 것이 아니라 일부만 활성화되거나 하더라.\n",
    "- 다층 신경망에서 다음 레이어로 전달할 때 그림의 일부씩만 잘라서 전달한 후에 나중에 합쳐서 결과를 확인하는 방법을 연구(알파고도 이 방법을 사용, 90% 이상 정확도)\n",
    "\n",
    "#### A Big Problem!\n",
    "- Backpropagation 알고리즘: 레이어가 몇개 안될 때는 잘 적용이 되는데, 레이어가 많아지면 에러가 뒤에서부터 많이 전달되지 않아 성능이 떨어지는 문제가 발생\n",
    "- 레이어가 많아야 더 복잡한 문제를 해결할 수 있는데 레이어가 많은 문제는 해결할 수 없었음(deep한 신경망은 학습이 제대로 되지 않았다.)\n",
    "- 또다시 침체기에 들어감(펀딩 받기도 어렵고 neural network 이름만 들어가도 논문이 reject되었다고 할 정도였다고 함)\n",
    "\n",
    "#### CIFAR\n",
    "- Canadian Institute for Advanced Research (CIFAR) 단체에서 당장의 성과가 없어도 기초연구를 하도록 독려하였음\n",
    "- Hinton 교수는 이에 canada로 가서 연구를 시작하였음\n",
    "\n",
    "#### Breakthrough\n",
    "- 2006, 2007년 by Hinton,Bengio\n",
    "- 초기 w값을 제대로 주지 못해서 deep한 신경망이 학습이 제대로 되지 않았다.\n",
    "- 초기값만 잘 주면 deep neural network도 제대로 학습을 시킬 수 있다고 증명함\n",
    "- Deep neural network라는 용어에 부정적 견해가 많았기에 이때부터 용어를 조금 바꾸어 Deep nets, ***Deep Learning*** 이라는 용어를 사용하였음\n",
    "\n",
    "#### Imagenet\n",
    "- 이미지를 주고 컴퓨터한테 무엇인지 확인하게 하는 대회\n",
    "- 2010년 28%대 에러율, 2011년 26%대 에러율을 보았는데, 2012년 갑자기 15.3%대로 에러율을 낮춤! (Hinton 교수 연구실 학생)\n",
    "- human error가 5%대인데 2015년부터 사람보다 정확도가 높아짐\n"
   ]
  },
  {
   "cell_type": "markdown",
   "metadata": {},
   "source": [
    "### Why should I care?\n",
    "\n",
    "내가 연구자도 아니고, 컴퓨터과학자도 아니다. 그런데 딥러닝을 알아야할까?\n",
    "데이터가 있고, 무언가를 팔고 있거나, 어떤 사업을 하고 있는 경우 큰 도움이 될 수 있다!\n",
    "\n",
    "### Why now?\n",
    "**학생이나 연구자라면**\n",
    "- 세계적인 레벨이 되기에 많이 늦지 않았음\n",
    "- 수학적으로 많이 복잡하지 않다!\n",
    "\n",
    "**실용적으로 쓰고 싶은 사람이라면**\n",
    "- 정확도가 90%이상 높아졌음\n",
    "- Tensorflow와 같은 이미 만들어진 도구나 python과 같은 쉬운 언어로 사용할 수 있다.\n"
   ]
  }
 ],
 "metadata": {
  "kernelspec": {
   "display_name": "Python 3",
   "language": "python",
   "name": "python3"
  },
  "language_info": {
   "codemirror_mode": {
    "name": "ipython",
    "version": 3
   },
   "file_extension": ".py",
   "mimetype": "text/x-python",
   "name": "python",
   "nbconvert_exporter": "python",
   "pygments_lexer": "ipython3",
   "version": "3.5.4"
  }
 },
 "nbformat": 4,
 "nbformat_minor": 2
}
