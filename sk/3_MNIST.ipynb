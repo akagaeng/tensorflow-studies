{
 "cells": [
  {
   "cell_type": "markdown",
   "metadata": {},
   "source": [
    "### MNIST 필기체 인식 실습 및 과제수행 / NEURAL 스타일 이미지 실습\n",
    "\n",
    "MNIST의 유래\n",
    "- NIST(표준 기술 미국 국립 연구소)에 의해 수집된 데이터셋 일부가 수정되었다 하여 MNIST라 함\n",
    "\n",
    "MNIST 다운로드\n",
    "- train-images-idx3-ubyte.gz:  training set images (9912422 bytes) \n",
    "  + 학습셋 이미지: 55,000개의 트레이닝 이미지, 5,000개의 검증 이미지\n",
    "- train-labels-idx1-ubyte.gz:  training set labels (28881 bytes) \n",
    "  + 이미지와 매칭되는 학습 셋 레이블\n",
    "- t10k-images-idx3-ubyte.gz:   test set images (1648877 bytes) \n",
    "  + 테스트 셋 이미지: 10,000 개의 이미지\n",
    "- t10k-labels-idx1-ubyte.gz:   test set labels (4542 bytes)\n",
    "  + 이미지와 매칭되는 테스트 셋 레이블\n",
    "  \n"
   ]
  },
  {
   "cell_type": "markdown",
   "metadata": {},
   "source": [
    "여기까지 듣고 더이상 필요없는 것같아서 sungkim으로 넘어감."
   ]
  }
 ],
 "metadata": {
  "kernelspec": {
   "display_name": "Python 3",
   "language": "python",
   "name": "python3"
  },
  "language_info": {
   "codemirror_mode": {
    "name": "ipython",
    "version": 3
   },
   "file_extension": ".py",
   "mimetype": "text/x-python",
   "name": "python",
   "nbconvert_exporter": "python",
   "pygments_lexer": "ipython3",
   "version": "3.5.4"
  }
 },
 "nbformat": 4,
 "nbformat_minor": 2
}
