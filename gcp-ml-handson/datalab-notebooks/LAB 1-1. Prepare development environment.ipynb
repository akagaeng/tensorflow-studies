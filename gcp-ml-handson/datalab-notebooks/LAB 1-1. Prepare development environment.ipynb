{
 "cells": [
  {
   "cell_type": "markdown",
   "metadata": {},
   "source": [
    "## LAB 1-1. Prepare development environment(gcloud, datalab 설치)\n",
    "\n",
    "### Local 환경에서 gcloud 설치\n",
    "\n",
    "1. Enter the following at a command prompt:\n",
    "```bash\n",
    "$ curl https://sdk.cloud.google.com | bash\n",
    "```\n",
    "\n",
    "2. Restart your shell:\n",
    "```bash\n",
    "$ exec -l $SHELL\n",
    "```\n",
    "\n",
    "3. Run gcloud init to initialize the gcloud environment:\n",
    "```bash\n",
    "$ gcloud init\n",
    "```\n",
    "\n",
    "### Datalab 설치\n",
    "\n",
    "1. gcloud 콤포넌트 확인\n",
    "```bash\n",
    "$ gcloud components list\n",
    "```\n",
    "\n",
    "2. datalab 설치되어있지 않는 경우 (설치되어있으면 패스)\n",
    "```bash\n",
    "$ gcloud components install datalab\n",
    "```\n",
    "\n",
    "3. datalab 인스턴스 생성\n",
    "```bash\n",
    "$ datalab create <인스턴스 이름>\n",
    "(ex: datalab create datalab)\n",
    "```\n",
    "\n",
    "4. datalab 이미 설치되어있는 경우\n",
    "```bash\n",
    "$ datalab connect datalab\n",
    "```\n",
    "\n",
    "5. http://localhost:8081/tree/datalab 에서 접속"
   ]
  }
 ],
 "metadata": {
  "kernelspec": {
   "display_name": "Python 3",
   "language": "python",
   "name": "python3"
  },
  "language_info": {
   "codemirror_mode": {
    "name": "ipython",
    "version": 3
   },
   "file_extension": ".py",
   "mimetype": "text/x-python",
   "name": "python",
   "nbconvert_exporter": "python",
   "pygments_lexer": "ipython3",
   "version": "3.6.5"
  }
 },
 "nbformat": 4,
 "nbformat_minor": 2
}
