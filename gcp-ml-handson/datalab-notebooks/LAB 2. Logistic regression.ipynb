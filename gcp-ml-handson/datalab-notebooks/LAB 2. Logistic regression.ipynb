{
 "cells": [
  {
   "cell_type": "code",
   "execution_count": null,
   "metadata": {
    "collapsed": true
   },
   "outputs": [],
   "source": [
    "LAB 2. Logistic regression"
   ]
  },
  {
   "cell_type": "code",
   "execution_count": 2,
   "metadata": {
    "collapsed": false
   },
   "outputs": [
    {
     "name": "stderr",
     "output_type": "stream",
     "text": [
      "No handles with labels found to put in legend.\n"
     ]
    },
    {
     "data": {
      "image/png": "[encoded data removed]",
      "text/plain": [
       "<matplotlib.figure.Figure at 0x113a8cd68>"
      ]
     },
     "metadata": {},
     "output_type": "display_data"
    }
   ],
   "source": [
    "import numpy as np\n",
    "import matplotlib.pyplot as plt\n",
    "num_points = 300\n",
    "vector_set = []\n",
    "for i in range(num_points):\n",
    "    if(i%2 == 0):\n",
    "        x1 = np.random.normal(0,2) + 5\n",
    "        x2 = np.random.normal(0,5) + 10\n",
    "        vector_set.append([x1,x2,0])\n",
    "        plt.plot(x1,x2,'og')\n",
    "    else:\n",
    "        x1 = np.random.normal(0,2) + 12\n",
    "        x2 = np.random.normal(0,6) + 20\n",
    "        vector_set.append([x1,x2,1])\n",
    "        plt.plot(x1,x2,'oy')\n",
    "        \n",
    "        # x_data is 300x2 matrix, y_data is 300x1 label data\n",
    "        x_data = np.array([ [v[0],v[1]] for v in vector_set ])\n",
    "        y_data = np.array([ [v[2]] for v in vector_set ]) ",
    " ",
    "x_val = [[5,7],[8,11],[11,25]] ",
    "plt.plot([ row[0] for row in x_val] , [ row[1] for row in x_val] ,'Dr' ) ",
    " ",
    "plt.plot() ",
    "plt.ylim([0,30]) ",
    "plt.xlim([0,30]) ",
    "plt.xlabel('x') ",
    "plt.ylabel('y') ",
    "plt.legend() ",
    "plt.show()"
   ]
  },
  {
   "cell_type": "code",
   "execution_count": 3,
   "metadata": {
    "collapsed": false
   },
   "outputs": [
    {
     "name": "stdout",
     "output_type": "stream",
     "text": [
      "0 nan\n",
      "W : [[nan]\n",
      " [nan]]\n",
      " b: [nan]\n",
      "[[5, 7], [8, 11], [11, 25]] [[nan]\n",
      " [nan]\n",
      " [nan]]\n",
      "5000 nan\n",
      "W : [[nan]\n",
      " [nan]]\n",
      " b: [nan]\n",
      "[[5, 7], [8, 11], [11, 25]] [[nan]\n",
      " [nan]\n",
      " [nan]]\n",
      "10000 nan\n",
      "W : [[nan]\n",
      " [nan]]\n",
      " b: [nan]\n",
      "[[5, 7], [8, 11], [11, 25]] [[nan]\n",
      " [nan]\n",
      " [nan]]\n",
      "15000 nan\n",
      "W : [[nan]\n",
      " [nan]]\n",
      " b: [nan]\n",
      "[[5, 7], [8, 11], [11, 25]] [[nan]\n",
      " [nan]\n",
      " [nan]]\n",
      "20000 nan\n",
      "W : [[nan]\n",
      " [nan]]\n",
      " b: [nan]\n",
      "[[5, 7], [8, 11], [11, 25]] [[nan]\n",
      " [nan]\n",
      " [nan]]\n",
      "25000 nan\n",
      "W : [[nan]\n",
      " [nan]]\n",
      " b: [nan]\n",
      "[[5, 7], [8, 11], [11, 25]] [[nan]\n",
      " [nan]\n",
      " [nan]]\n",
      "30000 nan\n",
      "W : [[nan]\n",
      " [nan]]\n",
      " b: [nan]\n",
      "[[5, 7], [8, 11], [11, 25]] [[nan]\n",
      " [nan]\n",
      " [nan]]\n",
      "35000 nan\n",
      "W : [[nan]\n",
      " [nan]]\n",
      " b: [nan]\n",
      "[[5, 7], [8, 11], [11, 25]] [[nan]\n",
      " [nan]\n",
      " [nan]]\n",
      "40000 nan\n",
      "W : [[nan]\n",
      " [nan]]\n",
      " b: [nan]\n",
      "[[5, 7], [8, 11], [11, 25]] [[nan]\n",
      " [nan]\n",
      " [nan]]\n",
      "45000 nan\n",
      "W : [[nan]\n",
      " [nan]]\n",
      " b: [nan]\n",
      "[[5, 7], [8, 11], [11, 25]] [[nan]\n",
      " [nan]\n",
      " [nan]]\n",
      "50000 nan\n",
      "W : [[nan]\n",
      " [nan]]\n",
      " b: [nan]\n",
      "[[5, 7], [8, 11], [11, 25]] [[nan]\n",
      " [nan]\n",
      " [nan]]\n"
     ]
    }
   ],
   "source": [
    "import tensorflow as tf # placeholders for a tensor that will be always fed.\n",
    "X = tf.placeholder(tf.float32, shape=[None, 2])\n",
    "Y = tf.placeholder(tf.float32, shape=[None, 1])\n",
    "W = tf.Variable(tf.random_normal([2, 1]), name='weight')\n",
    "b = tf.Variable(tf.random_normal([1]), name='bias') \n",
    "\n",
    "# Hypothesis using sigmoid: tf.div(1., 1. + tf.exp(tf.matmul(X, W)))\n",
    "\n",
    "y = tf.sigmoid(tf.matmul(X, W) + b) # cost/loss function\n",
    "cost = -tf.reduce_mean(Y * tf.log(y) + (1 - Y) * tf.log(1 - y))\n",
    "train = tf.train.GradientDescentOptimizer(learning_rate=0.01).minimize(cost)\n",
    "with tf.Session() as sess:\n",
    "    sess.run(tf.global_variables_initializer())\n",
    "    for step in range(50001):\n",
    "        cost_val, _ = sess.run([cost, train], feed_dict={X: x_data, Y: y_data})\n",
    "        if step % 5000 == 0:\n",
    "            print(step, cost_val)\n",
    "            w_val,b_val = sess.run([W,b])\n",
    "            # predict\n",
    "            y_val = sess.run(y,feed_dict={X:x_val})\n",
    "            print('W :',w_val)\n",
    "            print(' b:',b_val)\n",
    "            print(x_val,y_val)"
   ]
  },
  {
   "cell_type": "code",
   "execution_count": null,
   "metadata": {
    "collapsed": true
   },
   "outputs": [],
   "source": []
  }
 ],
 "metadata": {
  "kernelspec": {
   "display_name": "Python 3",
   "language": "python",
   "name": "python3"
  },
  "language_info": {
   "codemirror_mode": {
    "name": "ipython",
    "version": 3
   },
   "file_extension": ".py",
   "mimetype": "text/x-python",
   "name": "python",
   "nbconvert_exporter": "python",
   "pygments_lexer": "ipython3",
   "version": "3.6.5"
  }
 },
 "nbformat": 4,
 "nbformat_minor": 2
}
